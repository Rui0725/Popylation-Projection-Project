{
 "cells": [
  {
   "cell_type": "markdown",
   "id": "ea722182",
   "metadata": {},
   "source": [
    "     Final Project\n",
    "                                         ---California population\n",
    "                             \n",
    "                             Author : Rui Xu, Gang Xiao, Yuxin Xiao, Ruotong Wu\n",
    "                             \n",
    "<div style=\"page-break-after: always; visibility: hidden\"> \n",
    "\\pagebreak "
   ]
  },
  {
   "cell_type": "markdown",
   "id": "ac874f77",
   "metadata": {},
   "source": [
    "# Background and Motivation"
   ]
  },
  {
   "cell_type": "markdown",
   "id": "a3dc0cca",
   "metadata": {},
   "source": [
    "As a result of the pandemic, a severe economic loss can be observed in recent days. We are curious whether population growth/decay would affect the economy, so we had some research, and from the article “Urban land expansion: the role of population and economic growth for 300+ cities” (Mahtta et al., 2022), we noticed that the population in a region would affect the urban land expansion, and the economy would consequently grow. If we can create a population growth model for a region, then the government can establish policies such as the establishment or removal of population migration incentive schemes, and family planning to control the population change rate based on this model. The size of the population can be a determining factor of the local economy. More population means more labour force, though it would lead to different issues like the housing crisis, shortage of supply, etc.(How does population affect demand, 2021)  Meanwhile, the composition of the population would affect the region significantly. The ageing tendency of the population is a serious problem in the world. People who are 65 and over in California are 14.8% of the whole population, and this is expected to have an overall 166% increase in the next fifty years. (California, Facts about California's elderly) With the ageing of the population, there would be a decrease in the labour force, and the government needs to put more attention on the pension plan and local health care, so the projection of population in the future is crucial to a region. We choose the population of California to do the analysis, and we want to use this model to make a prediction of the population size in California in the future."
   ]
  },
  {
   "cell_type": "markdown",
   "id": "a3ff8661",
   "metadata": {},
   "source": [
    "# Research Question"
   ]
  },
  {
   "cell_type": "markdown",
   "id": "11fb8b96",
   "metadata": {},
   "source": [
    "Base on existing data, what would be the projection of population in future, and how would the change in population have impacts on the economy? To be more specific, if we divide the whole population into three age groups(children, adults, seniors), how would the proportion of each sub-population reflect the variation in labour force in this region?"
   ]
  },
  {
   "cell_type": "markdown",
   "id": "d9312364",
   "metadata": {},
   "source": [
    "# Base Model Construction "
   ]
  },
  {
   "cell_type": "markdown",
   "id": "74418b5c",
   "metadata": {},
   "source": [
    "## Real-world mechanisms and assumptions\n",
    "\n",
    "In the real world, the population change is determined by three demographic factors: the number of new births, which will add population to the region; the number of deaths, which will move the population out of the region, and the number of net migrants which explains the rest of change in population size. Many other factors are closely rated to population growth. For example, there could be wars, pandemics, medical improvement, economic growth, environmental issue(pollution, carbon emission), change in people’s perspective on giving birth, and changes in government policies(abortion, family planning, taxation, public welfare), but all of which impact the population through changing the fertility rate, death rate and net migration rate. Therefore, to simplify our model construction but still capture the factors that dominate population evolution, our base model will only include birth rate, death rate and net migration rate to project population growth. To uncover the factors that drive the population change, we will assume all of those three parameters are constant. However, all of these three rates are dynamic and change over time. For example, the United States experienced a time when there were high birth rates between mid-1946 and mid-1964. There was also a decrease in deaths from 1955 to 2020 which is not true in our model with a constant death rate. The most important factor that is also not considered in our model is migration. To simplify our model, we only consider the transition between California and the rest of the U.S and do not include immigrants from other countries, which had a large contribution to the population in America.\n"
   ]
  },
  {
   "cell_type": "code",
   "execution_count": 101,
   "id": "54a38cb9",
   "metadata": {},
   "outputs": [],
   "source": [
    "import numpy as np\n",
    "import pandas as pd\n",
    "import seaborn as sns\n",
    "import matplotlib.pyplot as plt\n",
    "import numpy.linalg as linalg"
   ]
  },
  {
   "cell_type": "code",
   "execution_count": 102,
   "id": "6eb46347",
   "metadata": {},
   "outputs": [
    {
     "name": "stdout",
     "output_type": "stream",
     "text": [
      "0.1315060055435787\n",
      "0.04727440714505698\n",
      "0.1282137268052761\n",
      "0.048769742638839576\n",
      "0.08654142285186325\n",
      "-0.007390749727120895\n"
     ]
    }
   ],
   "source": [
    "pop_cal = 12988\n",
    "birth_cal = 1708\n",
    "death_cal = 614\n",
    "pop_US = 152082\n",
    "birth_US = 19499\n",
    "death_US = 7417\n",
    "nm_cal = 1124\n",
    "nm_US = -1124\n",
    "r_cal = birth_cal/pop_cal\n",
    "d_cal = death_cal/pop_cal\n",
    "r_US = birth_US/pop_US\n",
    "d_US = death_US/pop_US\n",
    "nmr_cal = nm_cal/pop_cal\n",
    "nmr_US = nm_US/pop_US\n",
    "print(r_cal)\n",
    "print(d_cal)\n",
    "print(r_US)\n",
    "print(d_US)\n",
    "print(nmr_cal)\n",
    "print(nmr_US)"
   ]
  },
  {
   "cell_type": "markdown",
   "id": "d6ff94f6",
   "metadata": {},
   "source": [
    "\n",
    "\n",
    "### Model I\n",
    "\n",
    "Parameters\n",
    "\n",
    "**Birth rate**\n",
    "\n",
    "b1 : number of individuals born in California’s population per capita in the time period of 5 years\n",
    "\n",
    "b2 : number of individuals born in the population of the rest of US per capita in the time period of 5 years\n",
    "\n",
    "**Mortality rate**\n",
    "\n",
    "d1 : number of deaths in California’s population per capita in the time period of 5 years\n",
    "\n",
    "d2 : number of deaths in the population of the rest of US per capita in the time period of 5 years\n",
    "\n",
    "**Net Migration rate**\n",
    "\n",
    "nm1: the difference between the number of people coming into California and the number of people leaving California per capita\n",
    "\n",
    "nm2 : the difference between the number of people coming into California and the number of people leaving California per capita  \n",
    "\n",
    "\n",
    "**Growth Matrix G**\n",
    "\n",
    "We define our growth matrix to be G = I + B − D + M, and we need I here because the population in the next year should include the population in the previous year, and the matrix B - D + M solely measures the change rate of population. In another word, we assume that the population in the next year is only based on the population size in the current year.\n",
    "\n",
    "The constructed model is as below\n",
    "\n",
    "\n",
    "\n",
    "\\begin{equation}\n",
    "\\begin{bmatrix} P1 \\\\ P2 \\end{bmatrix}_{T+1} = \\begin{bmatrix} 1+b1-d1+nm1 & 0 \\\\ 0 & 1+b2-d2+nm2 \\end{bmatrix} \\begin{bmatrix} P1 \\\\ P2 \\end{bmatrix}_{T}\n",
    "\\end{equation}\n",
    "\n",
    "\n",
    "With calculated parameters, we have \n",
    "\n",
    "\n",
    "\\begin{equation}\n",
    "\\begin{bmatrix} P1 \\\\ P2 \\end{bmatrix}_{T+1} = \\begin{bmatrix} 1.17077302 & 0 \\\\ 0 & 1.07205323 \\end{bmatrix} \\begin{bmatrix} P1 \\\\ P2 \\end{bmatrix}_{T}\n",
    "\\end{equation}\n",
    "\n",
    "\n",
    "\n",
    "### Model II\n",
    "\n",
    "Parameters\n",
    "\n",
    "t11 : number of people who stay in California in the 5 year period per capita\n",
    "\n",
    "t12 : number of people who moves from the rest of US to California per capita\n",
    "\n",
    "t21 : number of people who moves from California to the rest of US per capita\n",
    "\n",
    "t22 : number of people who stayed in the rest of US per capita\n",
    "\n",
    "\n",
    "**Growth Matrix T**\n",
    "\n",
    "For our transition matrix T, we do not need I as in the previous model since the transition rate t11 and t22 is the proportion of the population who stay in this region, which includes the information of the population in the current year.\n",
    "\n",
    "\n",
    "The constructed model is as below\n",
    "\n",
    "\n",
    "\\begin{equation}\n",
    "\\begin{bmatrix} P1 \\\\ P2 \\end{bmatrix}_{T+1} = \\begin{bmatrix} t11 & t12 \\\\ t21 & t22 \\end{bmatrix} \\begin{bmatrix} P1 \\\\ P2 \\end{bmatrix}_{T}\n",
    "\\end{equation}\n",
    "\n",
    "\n",
    "With calculated parameters, we have\n",
    "\n",
    "\n",
    "\\begin{equation}\n",
    "\\begin{bmatrix} P1 \\\\ P2 \\end{bmatrix}_{T+1} = \\begin{bmatrix} 0.93732676 & 0.01274313 \\\\ 0.06267324 & 0.98725687 \\end{bmatrix} \\begin{bmatrix} P1 \\\\ P2 \\end{bmatrix}_{T}\n",
    "\\end{equation}\n"
   ]
  },
  {
   "cell_type": "markdown",
   "id": "d7835bd6",
   "metadata": {},
   "source": [
    "# Base model analysis"
   ]
  },
  {
   "cell_type": "code",
   "execution_count": 106,
   "id": "dda32ac3",
   "metadata": {},
   "outputs": [],
   "source": [
    "def pop_base_mod1(pop_cal, pop_US, r1, d1,nmr1,r2,d2,nmr2,T):\n",
    "    N = np.arange(T + 1)\n",
    "    x = np.zeros((3, T + 1))\n",
    "    x[0] = N\n",
    "    x[(1,2),0] = np.array([[pop_cal, pop_US]])\n",
    "\n",
    "    G = np.array([[1+r1-d1+nmr1, 0], [0, 1+r2-d2+nmr2]])\n",
    "    \n",
    "    eig, P = linalg.eig(G)\n",
    "\n",
    "    P_inv = linalg.inv(P)\n",
    "    D = np.zeros((len(eig),len(eig)))\n",
    "    np.fill_diagonal(D, eig)\n",
    "    \n",
    "    for i in N[1:T+1]:\n",
    "        x[(1,2),i] = G.dot(x[(1,2),i-1])\n",
    "        \n",
    "    \n",
    "    df = pd.DataFrame({\n",
    "        'N': x[0],\n",
    "        'California': x[1],\n",
    "        'Rest of U.S.': x[2]\n",
    "    })\n",
    "    \n",
    "    return x,df"
   ]
  },
  {
   "cell_type": "code",
   "execution_count": 107,
   "id": "7fe57146",
   "metadata": {},
   "outputs": [
    {
     "name": "stdout",
     "output_type": "stream",
     "text": [
      "       N     California   Rest of U.S.\n",
      "0    0.0   12988.000000  152082.000000\n",
      "1    1.0   15206.000000  163040.000000\n",
      "2    2.0   17802.774561  174787.559343\n",
      "3    3.0   20843.008160  187381.568333\n",
      "4    4.0   24402.431635  200883.016406\n",
      "5    5.0   28569.708611  215357.287482\n",
      "6    6.0   33448.644067  230874.476605\n",
      "7    7.0   39160.770071  247509.729394\n",
      "8    8.0   45848.373090  265343.605952\n",
      "9    9.0   53678.038282  284462.470999\n",
      "10  10.0   62844.799055  304958.912111\n",
      "11  11.0   73576.995259  326932.188100\n",
      "12  12.0   86141.961034  350488.709695\n",
      "13  13.0  100852.683976  375742.554862\n"
     ]
    },
    {
     "data": {
      "image/png": "[encoded data removed]",
      "text/plain": [
       "<Figure size 432x288 with 1 Axes>"
      ]
     },
     "metadata": {
      "needs_background": "light"
     },
     "output_type": "display_data"
    }
   ],
   "source": [
    "x,df = pop_base_mod1(pop_cal = 12988, pop_US = 152082, r1 = r_cal, d1 = d_cal,nmr1 = nmr_cal, r2 = r_US, d2 = d_US, nmr2 = nmr_US, T = 13)\n",
    "plt.scatter(x[0,:], x[1,:], c='b')\n",
    "plt.scatter(x[0,:], x[2,:], c='r')\n",
    "print(df)   \n",
    "    "
   ]
  },
  {
   "cell_type": "markdown",
   "id": "df7aa5d3",
   "metadata": {},
   "source": [
    "* Interpretation of Simulation Result Model I\n",
    "\n",
    "1. Using the 1955 data and the computed rate, we can see that after 5 years, California will have a population of size 15206 and the rest of the U.S will have a population of size 163040, which verifies the provided data in 1960\n",
    "\n",
    "2. The predicted population in California in 2020 is approximately 100852684, while the data found on US census data is 39538223. The predicted population in the rest of the U.S. is 375742555, while the data found on US census data is 291911058. We can see that there are discrepancies between our simulated result and the actual value, which means the population grows much slower than our prediction. Even though we can see an increase in population in these two regions, which means the model accurately describes the pattern of population growth to some extent, the performance is still not very satisfying due to our assumptions stated above, such as constant birth and death rate, as well as no immigrants from other countries."
   ]
  },
  {
   "cell_type": "code",
   "execution_count": 108,
   "id": "2d6ec627",
   "metadata": {},
   "outputs": [
    {
     "name": "stdout",
     "output_type": "stream",
     "text": [
      "[1.17077302 1.07205323]\n",
      "0.17077302125038485\n"
     ]
    }
   ],
   "source": [
    "G = np.array([[1+r_cal-d_cal+nmr_cal, 0], [0, 1+r_US-d_US+nmr_US]])\n",
    "eig, P = linalg.eig(G)\n",
    "growth_rate = eig-1\n",
    "print(eig) # eigenvalue of growth matrix G\n",
    "print(growth_rate[0]) # long-term growth rate"
   ]
  },
  {
   "cell_type": "markdown",
   "id": "d1780ae9",
   "metadata": {},
   "source": [
    "**Mathematical Analysis** \n",
    "\n",
    "In order to have some insights into the population distribution between California and the rest of the US in the long run, we have performed a mathematical analysis on the growth matrix G by looking at its dominant eigenvalues. By calculation, the largest eigenvalue of G is 1.17077302, which means the population in these two regions will have geometric growth in the long run with a growth rate of around 17%. This result is not realistic because the population in America will go to infinity, which could be explained by no limit capacity in our model."
   ]
  },
  {
   "cell_type": "code",
   "execution_count": 109,
   "id": "d453c716",
   "metadata": {},
   "outputs": [],
   "source": [
    "t11 = 12174/12988\n",
    "t12 = 1938/152082\n",
    "t21 = 814/12988\n",
    "t22 = 150144/152082"
   ]
  },
  {
   "cell_type": "code",
   "execution_count": 110,
   "id": "752b1a5a",
   "metadata": {},
   "outputs": [],
   "source": [
    "def pop_base_mod2(pop_cal, pop_US, a, b,c,d,t):\n",
    "    N = np.arange(t + 1)\n",
    "    N = N.astype(int)\n",
    "    x = np.zeros((3, t + 1))\n",
    "    x[0] = N\n",
    "    x[(1,2),0] = np.array([[pop_cal, pop_US]])\n",
    "\n",
    "    T = np.array([[a, b], [c, d]])\n",
    "    \n",
    "    \n",
    "    for i in N[1:t+1]:\n",
    "        x[(1,2),i] = T.dot(x[(1,2),i-1])\n",
    "        \n",
    "    df = pd.DataFrame({\n",
    "        'N': x[0],\n",
    "        'California': x[1],\n",
    "        'Rest of U.S.': x[2]\n",
    "    })\n",
    "    \n",
    "    return x,df"
   ]
  },
  {
   "cell_type": "code",
   "execution_count": 111,
   "id": "a454c553",
   "metadata": {},
   "outputs": [
    {
     "name": "stdout",
     "output_type": "stream",
     "text": [
      "       N    California   Rest of U.S.\n",
      "0    0.0  12988.000000  152082.000000\n",
      "1    1.0  14112.000000  150958.000000\n",
      "2    2.0  15151.232009  149918.767991\n",
      "3    3.0  16112.088920  148957.911080\n",
      "4    4.0  17000.481498  148069.518502\n",
      "5    5.0  17821.874740  147248.125260\n",
      "6    6.0  18581.321492  146488.678508\n",
      "7    7.0  19283.493532  145786.506468\n",
      "8    8.0  19932.710311  145137.289689\n",
      "9    9.0  20532.965522  144537.034478\n",
      "10  10.0  21087.951669  143982.048331\n",
      "11  11.0  21601.082780  143468.917220\n",
      "12  12.0  22075.515409  142994.484591\n",
      "13  13.0  22514.168055  142555.831945\n"
     ]
    },
    {
     "data": {
      "image/png": "[encoded data removed]",
      "text/plain": [
       "<Figure size 432x288 with 1 Axes>"
      ]
     },
     "metadata": {
      "needs_background": "light"
     },
     "output_type": "display_data"
    }
   ],
   "source": [
    "x,df = pop_base_mod2(pop_cal = 12988, pop_US = 152082, a = t11, b = t12,c = t21,d = t22,t = 13)\n",
    "plt.scatter(x[0,:], x[1,:], c='b')\n",
    "plt.scatter(x[0,:], x[2,:], c='r')\n",
    "print(df)  "
   ]
  },
  {
   "cell_type": "markdown",
   "id": "e546c3d5",
   "metadata": {},
   "source": [
    "**Interpretation of Simulation Result Model II**\n",
    "\n",
    "In our second model, we will only look at the transition between California and the rest of the U.S and we will omit the birth and death so that we could have a better understanding of the population distribution within America.\n",
    "The predicted value of population in California in 2020 using this model would be 22514168 while the predicted value of population in the rest of the U.S would be 142555832, both of which are less than the real data. We can see from the plot that, if we assume the whole population is constant over time, that is no new births, immigrants from outside of the U.S. are added to the whole population, and no deaths and emigrates are moved out of the whole population, then there is an increase in the population of California and a decrease of population in the rest of population. \n",
    "\n",
    "Therefore, we draw a conclusion that Americans' preference for the state for immigration. This result makes sense in terms of reality since California has the largest economy in the world with some of the most famous employers and highest-rated colleges. Consequently, the more immigrants to California, potentially the more labour force we might see in California's population. However, this may not be the case due to the fact that America is graying. Therefore, we are particularly interested in the age structure of California, which will be explored through our extended model to see if the labour force in California is increasing or decreasing just like the rest of the U.S despite immigrants within the country.\n"
   ]
  },
  {
   "cell_type": "code",
   "execution_count": 112,
   "id": "a203be87",
   "metadata": {},
   "outputs": [
    {
     "name": "stdout",
     "output_type": "stream",
     "text": [
      "[0.92458364 1.        ]\n",
      "[ 27891.92756185 137178.07243815]\n",
      "[0.1689703 0.8310297]\n"
     ]
    }
   ],
   "source": [
    "T = np.array([[t11, t12], [t21, t22]])\n",
    "eig, M = linalg.eig(T)\n",
    "M_inv = linalg.inv(M)\n",
    "init_vals = np.array([[12988, 152082]])\n",
    "c =  M_inv.dot(init_vals.transpose())\n",
    "a = M[:,1] * c[1]\n",
    "normalized = a / sum(a)\n",
    "print(eig) # eigenvalue of transition matrix\n",
    "print(a) # the 'fixed point' that the population will reach to in the long run\n",
    "print(normalized) # the proportion of California's population\n",
    "\n"
   ]
  },
  {
   "cell_type": "markdown",
   "id": "71984df4",
   "metadata": {},
   "source": [
    "**Mathematical Analysis** \n",
    "\n",
    "From our calculation, the dominant eigenvalue of our transition matrix is 1, which means that in the long run, the population will reach a 'fixed point' and stabilize at this point. Therefore, we predict that in the future, California's population will be around 16.897% of the whole population in America. This is higher than 202 Census data which is 11.91%, but in reality, California still ranks at the top among all the states."
   ]
  },
  {
   "cell_type": "markdown",
   "id": "a5df38db",
   "metadata": {},
   "source": [
    "**Comparison Between Two Base Models** \n",
    "\n",
    "The differences between our two bases are the exclusion of birth and death, and we have an overestimate with the first model and an underestimate with the second one. If we include the birth rate and death rate, then there would be an overestimation, but if we omit these two rates, we have an underestimation. Therefore, we are wondering if we could reach a balance to have a better prediction for the population by breaking one of the assumptions in the base model - the constant birth rate. By adding noise to the birth rate, we hope to see a prediction closer to the real data. If this is true, then we are confident to say that our assumption for this parameter is closer to the real-world mechanism, which is essential to our primary interest in the proportion of the labour force since new births will fall into the working force in the future.\n"
   ]
  },
  {
   "cell_type": "markdown",
   "id": "057ae5e3",
   "metadata": {},
   "source": [
    "# Model extentions"
   ]
  },
  {
   "cell_type": "markdown",
   "id": "a0c6bc1e",
   "metadata": {},
   "source": [
    "## Extension 1(Combined Model)\n",
    "\n",
    "In the real world, births and migration increase urban populations, while deaths and migration reduce them. So in the base model, we assumed the increase in population comes from births(B) and immigration(I), and the decrease in population comes from deaths(D) and emigration(E).\n",
    "\n",
    "As far as we are concerned, birth and death are the most important factors in the population change for a city. Another significant factor is migration. However, in most of the time, migration is not directly related to births and deaths. For example, about 65% of the immigrants to the US were between 15 to 64, who have a lower mortality rate than those who are over 65 years old. Meanwhile, migration is mainly controlled by the government, which is not naturally changing. Therefore, we would construct a combined model with births and deaths in the first model, immigration and emigration in the second model.\n",
    "            \n",
    "Combining the two models makes it more accurate to calculate the population of a region. Separating immigration helps governments control population growth. When the first model predicts that the population is lower or higher than the desired population size, the government can change the immigration policy to introduce more immigrants or slow down the immigration to balance the population. When the net migration is high or low in the second model, the government may change fertility policies to affect the birth rates and make improvements to local medical care to affect the death rates in order to balance the population. Through the two models, population growth can be balanced so that cities can avoid overpopulation and population scarcity.\n",
    "\n",
    "We can infer the impact of population on the economy from the results of the two models. When the birth rate is high and the death rate is low in the first model while the predicted net migration rate is high in the second model, the result is that the population is too large and the surplus of the labour force may cause an unstable social environment and negatively affect the economy. On the other hand, when the birth rate is low and the death rate is high while the net migration rate is low, it may result in labour scarcity. In these cases, urban economies are directly affected by the population, thus the intervention of the government is crucial, and this combined model would help the government manage the population size.\n",
    "\n",
    "With the development of medical treatment and economic progress, human life expectancy has greatly increased, and the number of newly born people is also increasing due to the absence of famine and disaster, which leads to the continuous increase of population. On the other hand, California's superior welfare benefits attracted more and more immigrants, resulting in a surge in the urban population. To sum up, California's population will continue to grow in the future. The continuous growth of population has promoted the city's economy, but it has also led to some bad consequences, such as the labour surplus, an ageing population, and the growth of a bubble economy. Forecasting and controlling the population through models has become a necessary means for local governments.\n",
    "\n",
    "Construct a model with births and deaths as in the first model explored above, and the immigration and emigration as in the second model. This model should have the form.\n",
    "\n",
    "From the above information, we can summarize all the variables, as shown below\n",
    "\n",
    "### Processes\n",
    "\n",
    "1.     Births \n",
    "2.     Deaths\n",
    "3.     Migration\n",
    "4.     Immigration\n",
    "5.     Emigration\n",
    "\n",
    "### Modelling assumption\n",
    "\n",
    "1.     Bin the population into 2 group.   \n",
    "### Parameters\n",
    "\n",
    "1.     B = births rate\n",
    "2.     death rate= deate rate \n",
    "3.     T= net migration rate\n",
    "4.     I= immigration rate\n",
    "5.     E= emigration rate\n",
    "\n",
    "Therefore:\n",
    "\n",
    "\n",
    "We estimate the future urban population by births, deaths, net migration. The net migration is calculated separately.\n",
    "\n",
    "$$P(t+1)= (B-D+T)*P(t)$$\n",
    "\n",
    "Because policies differ from year to year, the number of immigrants varies, and immigration is not directly related to the other variables, so calculating net immigration alone can be a more accurate population forecast.\n",
    "\n",
    "$$T =E+I$$\n",
    "\n",
    "This combined model also has limitations. It cannot specifically find out the factors that affect the economy. To find out these factors that affect the economy more accurately, we can subdivide the base model, to be more specific, divide the population into three parts according to age and calculate their population growth rate respectively."
   ]
  },
  {
   "cell_type": "markdown",
   "id": "9742b88a",
   "metadata": {},
   "source": [
    "## Extension 2(Population distribution by Age group)\n",
    "\n",
    "In the real world, economic development is closely related to population. In recent years, California's economy has developed rapidly and people's living standards have been improving. While we enjoy the benefits of economic growth, we should also analyze the causes of economic growth. California's economic growth has been fueled by a growing population of urban workers, most of whom are adults. But with the improvement of medical care and the increasing pressure of child-rearing, the urban population is getting older and having fewer children. To sum up, we have made some changes to the basic model in order to better study the impact of population on economy\n",
    "\n",
    "Adults are responsible for the main part of a city's economy, whereas children and elderly people have less impact on the economy. Thus, we can divide the whole population into three groups by age: $P_1$(0 to 24), $P_2$(25 to 64), and $P_3$(over 64). This helps us to pinpoint socioeconomic factors. On the other hand, the birth rate given from elderly people and children is $b_3$ and $b_1$ which are very low, while the elderly are the main factor in the death rate. Dividing the population gives a more realistic figure since each group has different birth, death, and migration rates, and thus, we have to count the population at each stage separately.\n",
    "\n",
    "Most people between the ages of 0 and 24 are still students. Their mental maturity and ability are not enough to qualify for the labour force, so there is a little impact on the economy. The birth rate $b_3$ from this group is relatively low because they cannot have children legally or raise a child financially. Most of the people at this age are at their healthiest stage and live under the care of family, so the death rate is also low, which means the survival rate $s_{12}$ is high.\n",
    "\n",
    "Adults are the main part of the urban labour force, they have a mature mind and enough ability to create economic value, and also a direct factor in affecting the economy. Most adults get married and have children at this stage, so they are the main childbearing force which means a high birth rate $b_2$ is given, but they also have a certain death rate (certain survival rate $s_{23}$) due to personal health reasons, accidents, etc.\n",
    "\n",
    "For the third group, this group would have a high mortality rate and an extremely low birth rate $b_3$ from this group due to physiological reasons. The majority of the elderly do not go to work at this age, thus the economic productivity of this group is low. \n",
    "\n",
    "Meanwhile, the age to receive a full retirement benefit in California is 66 years old, and the demand for medical resources for this group is high, so the government needs to pay attention to the amount of population in this group. \n",
    "\n",
    "It is more accurate to obtain the distribution of the population by age through different birth rates and death rates. Such information can obtain the population proportion of different ages in a city, which will help the government to have a more detailed understanding of the population distribution of a city, so as to issue different laws to prevent social problems such as population ageing and the low fertility. Appropriate measures need to be taken to adjust the proportion of each group for the population. When the elderly population becomes high, there might be labour scarcity, and the government may need to encourage childbirth and immigration. When the adult population is high, there might be a surplus in the labour force, hence the government may need to encourage childbirth and slow down immigration. When the children population is high/low, there would be a surplus/scarcity of labour in future, so the government also needs to put it into consideration.\n",
    "\n",
    "\n",
    "### Processes\n",
    "\n",
    "1.     Births \n",
    "2.     Deaths\n",
    "3.     Migration\n",
    "4.     Ageing\n",
    "\n",
    "### Modelling assumption\n",
    "\n",
    "1.     Bin the population into 3 age group (0-24,25-64,64 over)\n",
    "2.     Birth rates are the same for different ages that are in the same age group\n",
    "3.     Survival rates are the same for different ages that are in the same age group\n",
    "4.   Track the model of migration alone\n",
    "5.   Assume the birth rate and survival rate are constant \n",
    "6.   Time scale N=5 years\n",
    "\n",
    "### Parameters\n",
    "\n",
    "1.     bi = births rate in age group i\n",
    "2.     sij= survival rate in age group i to age group j \n",
    "3.   di= death rate in age group i \n",
    "\n"
   ]
  },
  {
   "cell_type": "code",
   "execution_count": 113,
   "id": "cb50a135",
   "metadata": {},
   "outputs": [],
   "source": [
    "import schemdraw\n",
    "import schemdraw.elements as elm\n",
    "from schemdraw import flow"
   ]
  },
  {
   "cell_type": "code",
   "execution_count": 114,
   "id": "acceefa0",
   "metadata": {},
   "outputs": [
    {
     "name": "stdout",
     "output_type": "stream",
     "text": [
      "Requirement already satisfied: schemdraw[svgmath] in /opt/conda/lib/python3.9/site-packages (0.14)\n",
      "Requirement already satisfied: ziafont>=0.2 in /opt/conda/lib/python3.9/site-packages (from schemdraw[svgmath]) (0.2)\n",
      "Requirement already satisfied: latex2mathml in /opt/conda/lib/python3.9/site-packages (from schemdraw[svgmath]) (3.65.0)\n",
      "Requirement already satisfied: ziamath>=0.3 in /opt/conda/lib/python3.9/site-packages (from schemdraw[svgmath]) (0.4)\n",
      "Note: you may need to restart the kernel to use updated packages.\n"
     ]
    }
   ],
   "source": [
    "pip install schemdraw[svgmath]"
   ]
  },
  {
   "cell_type": "code",
   "execution_count": 115,
   "id": "9d8b263a",
   "metadata": {},
   "outputs": [
    {
     "data": {
      "image/png": "[encoded data removed]",
      "image/svg+xml": [
       "<?xml version=\"1.0\" encoding=\"utf-8\" standalone=\"no\"?>\n",
       "<!DOCTYPE svg PUBLIC \"-//W3C//DTD SVG 1.1//EN\"\n",
       "  \"http://www.w3.org/Graphics/SVG/1.1/DTD/svg11.dtd\">\n",
       "<svg xmlns:xlink=\"http://www.w3.org/1999/xlink\" width=\"368.402956pt\" height=\"219.541824pt\" viewBox=\"0 0 368.402956 219.541824\" xmlns=\"http://www.w3.org/2000/svg\" version=\"1.1\">\n",
       " <metadata>\n",
       "  <rdf:RDF xmlns:dc=\"http://purl.org/dc/elements/1.1/\" xmlns:cc=\"http://creativecommons.org/ns#\" xmlns:rdf=\"http://www.w3.org/1999/02/22-rdf-syntax-ns#\">\n",
       "   <cc:Work>\n",
       "    <dc:type rdf:resource=\"http://purl.org/dc/dcmitype/StillImage\"/>\n",
       "    <dc:date>2022-04-05T01:12:27.856766</dc:date>\n",
       "    <dc:format>image/svg+xml</dc:format>\n",
       "    <dc:creator>\n",
       "     <cc:Agent>\n",
       "      <dc:title>Matplotlib v3.5.1, https://matplotlib.org/</dc:title>\n",
       "     </cc:Agent>\n",
       "    </dc:creator>\n",
       "   </cc:Work>\n",
       "  </rdf:RDF>\n",
       " </metadata>\n",
       " <defs>\n",
       "  <style type=\"text/css\">*{stroke-linejoin: round; stroke-linecap: butt}</style>\n",
       " </defs>\n",
       " <g id=\"figure_1\">\n",
       "  <g id=\"patch_1\">\n",
       "   <path d=\"M 0 219.541824 \n",
       "L 368.402956 219.541824 \n",
       "L 368.402956 -0 \n",
       "L 0 -0 \n",
       "L 0 219.541824 \n",
       "z\n",
       "\" style=\"fill: none\"/>\n",
       "  </g>\n",
       "  <g id=\"axes_1\">\n",
       "   <g id=\"patch_2\">\n",
       "    <path d=\"M 82.678781 178.56 \n",
       "C 90.793996 178.56 98.577925 175.335791 104.316249 169.597468 \n",
       "C 110.054572 163.859144 113.278781 156.075215 113.278781 147.96 \n",
       "C 113.278781 139.844785 110.054572 132.060856 104.316249 126.322532 \n",
       "C 98.577925 120.584209 90.793996 117.36 82.678781 117.36 \n",
       "C 74.563566 117.36 66.779637 120.584209 61.041314 126.322532 \n",
       "C 55.30299 132.060856 52.078781 139.844785 52.078781 147.96 \n",
       "C 52.078781 156.075215 55.30299 163.859144 61.041314 169.597468 \n",
       "C 66.779637 175.335791 74.563566 178.56 82.678781 178.56 \n",
       "L 82.678781 178.56 \n",
       "z\n",
       "\" clip-path=\"url(#pdabbcbfdc6)\" style=\"fill: none; stroke: #000000; stroke-width: 2; stroke-linejoin: miter\"/>\n",
       "   </g>\n",
       "   <g id=\"patch_3\">\n",
       "    <path d=\"M 205.078781 178.56 \n",
       "C 213.193996 178.56 220.977925 175.335791 226.716249 169.597468 \n",
       "C 232.454572 163.859144 235.678781 156.075215 235.678781 147.96 \n",
       "C 235.678781 139.844785 232.454572 132.060856 226.716249 126.322532 \n",
       "C 220.977925 120.584209 213.193996 117.36 205.078781 117.36 \n",
       "C 196.963566 117.36 189.179637 120.584209 183.441314 126.322532 \n",
       "C 177.70299 132.060856 174.478781 139.844785 174.478781 147.96 \n",
       "C 174.478781 156.075215 177.70299 163.859144 183.441314 169.597468 \n",
       "C 189.179637 175.335791 196.963566 178.56 205.078781 178.56 \n",
       "L 205.078781 178.56 \n",
       "z\n",
       "\" clip-path=\"url(#pdabbcbfdc6)\" style=\"fill: none; stroke: #000000; stroke-width: 2; stroke-linejoin: miter\"/>\n",
       "   </g>\n",
       "   <g id=\"patch_4\">\n",
       "    <path d=\"M 327.478781 178.56 \n",
       "C 335.593996 178.56 343.377925 175.335791 349.116249 169.597468 \n",
       "C 354.854572 163.859144 358.078781 156.075215 358.078781 147.96 \n",
       "C 358.078781 139.844785 354.854572 132.060856 349.116249 126.322532 \n",
       "C 343.377925 120.584209 335.593996 117.36 327.478781 117.36 \n",
       "C 319.363566 117.36 311.579637 120.584209 305.841314 126.322532 \n",
       "C 300.10299 132.060856 296.878781 139.844785 296.878781 147.96 \n",
       "C 296.878781 156.075215 300.10299 163.859144 305.841314 169.597468 \n",
       "C 311.579637 175.335791 319.363566 178.56 327.478781 178.56 \n",
       "L 327.478781 178.56 \n",
       "z\n",
       "\" clip-path=\"url(#pdabbcbfdc6)\" style=\"fill: none; stroke: #000000; stroke-width: 2; stroke-linejoin: miter\"/>\n",
       "   </g>\n",
       "   <g id=\"patch_5\">\n",
       "    <path d=\"M 107.020932 123.617849 \n",
       "Q 143.878781 86.76 183.441314 126.322532 \n",
       "\" clip-path=\"url(#pdabbcbfdc6)\" style=\"fill: none; stroke: #000000; stroke-width: 2; stroke-linejoin: miter; stroke-linecap: round\"/>\n",
       "   </g>\n",
       "   <g id=\"patch_6\">\n",
       "    <path d=\"M 111.348426 122.535976 \n",
       "L 104.316249 126.322532 \n",
       "L 108.102805 119.290356 \n",
       "z\n",
       "\" clip-path=\"url(#pdabbcbfdc6)\"/>\n",
       "   </g>\n",
       "   <g id=\"patch_7\">\n",
       "    <path d=\"M 180.73663 172.302151 \n",
       "Q 143.878781 209.16 104.316249 169.597468 \n",
       "\" clip-path=\"url(#pdabbcbfdc6)\" style=\"fill: none; stroke: #000000; stroke-width: 2; stroke-linejoin: miter; stroke-linecap: round\"/>\n",
       "   </g>\n",
       "   <g id=\"patch_8\">\n",
       "    <path d=\"M 176.409137 173.384024 \n",
       "L 183.441314 169.597468 \n",
       "L 179.654757 176.629644 \n",
       "z\n",
       "\" clip-path=\"url(#pdabbcbfdc6)\"/>\n",
       "   </g>\n",
       "   <g id=\"patch_9\">\n",
       "    <path d=\"M 303.13663 172.302151 \n",
       "Q 266.278781 209.16 226.716249 169.597468 \n",
       "\" clip-path=\"url(#pdabbcbfdc6)\" style=\"fill: none; stroke: #000000; stroke-width: 2; stroke-linejoin: miter; stroke-linecap: round\"/>\n",
       "   </g>\n",
       "   <g id=\"patch_10\">\n",
       "    <path d=\"M 298.809137 173.384024 \n",
       "L 305.841314 169.597468 \n",
       "L 302.054757 176.629644 \n",
       "z\n",
       "\" clip-path=\"url(#pdabbcbfdc6)\"/>\n",
       "   </g>\n",
       "   <g id=\"patch_11\">\n",
       "    <path d=\"M 85.489822 114.766032 \n",
       "Q 198.741314 10.26 305.841314 126.322532 \n",
       "\" clip-path=\"url(#pdabbcbfdc6)\" style=\"fill: none; stroke: #000000; stroke-width: 2; stroke-linejoin: miter; stroke-linecap: round\"/>\n",
       "   </g>\n",
       "   <g id=\"patch_12\">\n",
       "    <path d=\"M 89.857245 113.858688 \n",
       "L 82.678781 117.36 \n",
       "L 86.744483 110.485439 \n",
       "z\n",
       "\" clip-path=\"url(#pdabbcbfdc6)\"/>\n",
       "   </g>\n",
       "   <g id=\"line2d_1\">\n",
       "    <path d=\"M 52.078781 147.96 \n",
       "L 50.415623 148.735787 \n",
       "L 48.683325 149.341663 \n",
       "L 46.899195 149.771575 \n",
       "L 45.08106 150.021227 \n",
       "L 43.247085 150.088125 \n",
       "L 41.415593 149.971602 \n",
       "L 39.604882 149.67282 \n",
       "L 37.833046 149.194765 \n",
       "L 36.117785 148.542214 \n",
       "L 34.476239 147.721686 \n",
       "L 32.924807 146.741379 \n",
       "L 31.478991 145.611089 \n",
       "L 30.153236 144.342107 \n",
       "L 28.960787 142.947112 \n",
       "L 27.91356 141.440043 \n",
       "L 27.022018 139.835957 \n",
       "L 26.295066 138.15088 \n",
       "L 25.73997 136.401649 \n",
       "L 25.362275 134.605741 \n",
       "L 25.165754 132.781098 \n",
       "L 25.152372 130.945951 \n",
       "L 25.322261 129.118637 \n",
       "L 25.673725 127.317411 \n",
       "L 26.203251 125.56027 \n",
       "L 26.90555 123.864771 \n",
       "L 27.773604 122.247853 \n",
       "L 28.798741 120.725671 \n",
       "L 29.970718 119.313435 \n",
       "L 31.277825 118.025253 \n",
       "L 32.707003 116.873997 \n",
       "L 34.243973 115.871169 \n",
       "L 35.873379 115.026788 \n",
       "L 37.57894 114.349291 \n",
       "L 39.343617 113.845447 \n",
       "L 41.149777 113.520289 \n",
       "L 42.979375 113.377067 \n",
       "L 44.814131 113.417212 \n",
       "L 46.635714 113.640322 \n",
       "L 48.425923 114.044169 \n",
       "L 50.166873 114.624717 \n",
       "L 51.841168 115.376166 \n",
       "L 53.432082 116.291008 \n",
       "L 54.923718 117.360102 \n",
       "L 56.301173 118.572768 \n",
       "L 57.550685 119.916889 \n",
       "L 58.65977 121.379036 \n",
       "L 59.617346 122.944599 \n",
       "L 60.413847 124.597938 \n",
       "L 58.425723 119.13357 \n",
       "\" clip-path=\"url(#pdabbcbfdc6)\" style=\"fill: none; stroke: #000000; stroke-width: 2; stroke-linecap: round\"/>\n",
       "   </g>\n",
       "   <g id=\"patch_13\">\n",
       "    <path d=\"M 61.301308 118.087333 \n",
       "L 61.041314 126.322532 \n",
       "L 55.550138 120.179806 \n",
       "z\n",
       "\" clip-path=\"url(#pdabbcbfdc6)\"/>\n",
       "   </g>\n",
       "   <g id=\"text_1\">\n",
       "    <g clip-path=\"url(#pdabbcbfdc6)\">\n",
       "     <!-- $Group_1$ -->\n",
       "     <g transform=\"translate(60.553781 151.383828)scale(0.125 -0.125)\">\n",
       "      <defs>\n",
       "       <path id=\"DejaVuSans-Oblique-47\" d=\"M 3494 697 \n",
       "L 3738 1919 \n",
       "L 2700 1919 \n",
       "L 2797 2438 \n",
       "L 4453 2438 \n",
       "L 4050 384 \n",
       "Q 3634 156 3143 32 \n",
       "Q 2653 -91 2156 -91 \n",
       "Q 1278 -91 783 396 \n",
       "Q 288 884 288 1753 \n",
       "Q 288 2475 589 3126 \n",
       "Q 891 3778 1422 4213 \n",
       "Q 1756 4484 2153 4617 \n",
       "Q 2550 4750 3034 4750 \n",
       "Q 3472 4750 3873 4639 \n",
       "Q 4275 4528 4641 4306 \n",
       "L 4513 3634 \n",
       "Q 4231 3928 3853 4083 \n",
       "Q 3475 4238 3047 4238 \n",
       "Q 2550 4238 2172 4048 \n",
       "Q 1794 3859 1497 3463 \n",
       "Q 1244 3125 1098 2667 \n",
       "Q 953 2209 953 1734 \n",
       "Q 953 1081 1287 751 \n",
       "Q 1622 422 2284 422 \n",
       "Q 2616 422 2925 492 \n",
       "Q 3234 563 3494 697 \n",
       "z\n",
       "\" transform=\"scale(0.015625)\"/>\n",
       "       <path id=\"DejaVuSans-Oblique-72\" d=\"M 2853 2969 \n",
       "Q 2766 3016 2653 3041 \n",
       "Q 2541 3066 2413 3066 \n",
       "Q 1953 3066 1609 2717 \n",
       "Q 1266 2369 1153 1784 \n",
       "L 800 0 \n",
       "L 225 0 \n",
       "L 909 3500 \n",
       "L 1484 3500 \n",
       "L 1375 2956 \n",
       "Q 1603 3259 1920 3421 \n",
       "Q 2238 3584 2597 3584 \n",
       "Q 2691 3584 2781 3573 \n",
       "Q 2872 3563 2963 3538 \n",
       "L 2853 2969 \n",
       "z\n",
       "\" transform=\"scale(0.015625)\"/>\n",
       "       <path id=\"DejaVuSans-Oblique-6f\" d=\"M 1625 -91 \n",
       "Q 1009 -91 651 289 \n",
       "Q 294 669 294 1325 \n",
       "Q 294 1706 417 2101 \n",
       "Q 541 2497 738 2766 \n",
       "Q 1047 3184 1428 3384 \n",
       "Q 1809 3584 2291 3584 \n",
       "Q 2888 3584 3255 3212 \n",
       "Q 3622 2841 3622 2241 \n",
       "Q 3622 1825 3500 1412 \n",
       "Q 3378 1000 3181 728 \n",
       "Q 2875 309 2494 109 \n",
       "Q 2113 -91 1625 -91 \n",
       "z\n",
       "M 891 1344 \n",
       "Q 891 869 1089 633 \n",
       "Q 1288 397 1691 397 \n",
       "Q 2269 397 2648 901 \n",
       "Q 3028 1406 3028 2181 \n",
       "Q 3028 2634 2825 2865 \n",
       "Q 2622 3097 2228 3097 \n",
       "Q 1903 3097 1650 2945 \n",
       "Q 1397 2794 1197 2484 \n",
       "Q 1050 2253 970 1956 \n",
       "Q 891 1659 891 1344 \n",
       "z\n",
       "\" transform=\"scale(0.015625)\"/>\n",
       "       <path id=\"DejaVuSans-Oblique-75\" d=\"M 428 1388 \n",
       "L 838 3500 \n",
       "L 1416 3500 \n",
       "L 1006 1409 \n",
       "Q 975 1256 961 1147 \n",
       "Q 947 1038 947 966 \n",
       "Q 947 700 1109 554 \n",
       "Q 1272 409 1569 409 \n",
       "Q 2031 409 2368 721 \n",
       "Q 2706 1034 2809 1563 \n",
       "L 3194 3500 \n",
       "L 3769 3500 \n",
       "L 3091 0 \n",
       "L 2516 0 \n",
       "L 2631 550 \n",
       "Q 2388 244 2052 76 \n",
       "Q 1716 -91 1338 -91 \n",
       "Q 878 -91 622 161 \n",
       "Q 366 413 366 863 \n",
       "Q 366 956 381 1097 \n",
       "Q 397 1238 428 1388 \n",
       "z\n",
       "\" transform=\"scale(0.015625)\"/>\n",
       "       <path id=\"DejaVuSans-Oblique-70\" d=\"M 3175 2156 \n",
       "Q 3175 2616 2975 2859 \n",
       "Q 2775 3103 2400 3103 \n",
       "Q 2144 3103 1911 2972 \n",
       "Q 1678 2841 1497 2591 \n",
       "Q 1319 2344 1212 1994 \n",
       "Q 1106 1644 1106 1300 \n",
       "Q 1106 863 1306 627 \n",
       "Q 1506 391 1875 391 \n",
       "Q 2147 391 2380 519 \n",
       "Q 2613 647 2778 891 \n",
       "Q 2956 1147 3065 1494 \n",
       "Q 3175 1841 3175 2156 \n",
       "z\n",
       "M 1394 2969 \n",
       "Q 1625 3272 1939 3428 \n",
       "Q 2253 3584 2638 3584 \n",
       "Q 3175 3584 3472 3232 \n",
       "Q 3769 2881 3769 2247 \n",
       "Q 3769 1728 3584 1258 \n",
       "Q 3400 788 3053 416 \n",
       "Q 2822 169 2531 39 \n",
       "Q 2241 -91 1919 -91 \n",
       "Q 1547 -91 1294 64 \n",
       "Q 1041 219 916 525 \n",
       "L 556 -1331 \n",
       "L -19 -1331 \n",
       "L 922 3500 \n",
       "L 1497 3500 \n",
       "L 1394 2969 \n",
       "z\n",
       "\" transform=\"scale(0.015625)\"/>\n",
       "       <path id=\"DejaVuSans-31\" d=\"M 794 531 \n",
       "L 1825 531 \n",
       "L 1825 4091 \n",
       "L 703 3866 \n",
       "L 703 4441 \n",
       "L 1819 4666 \n",
       "L 2450 4666 \n",
       "L 2450 531 \n",
       "L 3481 531 \n",
       "L 3481 0 \n",
       "L 794 0 \n",
       "L 794 531 \n",
       "z\n",
       "\" transform=\"scale(0.015625)\"/>\n",
       "      </defs>\n",
       "      <use xlink:href=\"#DejaVuSans-Oblique-47\" transform=\"translate(0 0.78125)\"/>\n",
       "      <use xlink:href=\"#DejaVuSans-Oblique-72\" transform=\"translate(77.490234 0.78125)\"/>\n",
       "      <use xlink:href=\"#DejaVuSans-Oblique-6f\" transform=\"translate(118.603516 0.78125)\"/>\n",
       "      <use xlink:href=\"#DejaVuSans-Oblique-75\" transform=\"translate(179.785156 0.78125)\"/>\n",
       "      <use xlink:href=\"#DejaVuSans-Oblique-70\" transform=\"translate(243.164062 0.78125)\"/>\n",
       "      <use xlink:href=\"#DejaVuSans-31\" transform=\"translate(306.640625 -15.625)scale(0.7)\"/>\n",
       "     </g>\n",
       "    </g>\n",
       "   </g>\n",
       "   <g id=\"text_2\">\n",
       "    <g clip-path=\"url(#pdabbcbfdc6)\">\n",
       "     <!-- $Group_2$ -->\n",
       "     <g transform=\"translate(182.953781 151.383828)scale(0.125 -0.125)\">\n",
       "      <defs>\n",
       "       <path id=\"DejaVuSans-32\" d=\"M 1228 531 \n",
       "L 3431 531 \n",
       "L 3431 0 \n",
       "L 469 0 \n",
       "L 469 531 \n",
       "Q 828 903 1448 1529 \n",
       "Q 2069 2156 2228 2338 \n",
       "Q 2531 2678 2651 2914 \n",
       "Q 2772 3150 2772 3378 \n",
       "Q 2772 3750 2511 3984 \n",
       "Q 2250 4219 1831 4219 \n",
       "Q 1534 4219 1204 4116 \n",
       "Q 875 4013 500 3803 \n",
       "L 500 4441 \n",
       "Q 881 4594 1212 4672 \n",
       "Q 1544 4750 1819 4750 \n",
       "Q 2544 4750 2975 4387 \n",
       "Q 3406 4025 3406 3419 \n",
       "Q 3406 3131 3298 2873 \n",
       "Q 3191 2616 2906 2266 \n",
       "Q 2828 2175 2409 1742 \n",
       "Q 1991 1309 1228 531 \n",
       "z\n",
       "\" transform=\"scale(0.015625)\"/>\n",
       "      </defs>\n",
       "      <use xlink:href=\"#DejaVuSans-Oblique-47\" transform=\"translate(0 0.78125)\"/>\n",
       "      <use xlink:href=\"#DejaVuSans-Oblique-72\" transform=\"translate(77.490234 0.78125)\"/>\n",
       "      <use xlink:href=\"#DejaVuSans-Oblique-6f\" transform=\"translate(118.603516 0.78125)\"/>\n",
       "      <use xlink:href=\"#DejaVuSans-Oblique-75\" transform=\"translate(179.785156 0.78125)\"/>\n",
       "      <use xlink:href=\"#DejaVuSans-Oblique-70\" transform=\"translate(243.164062 0.78125)\"/>\n",
       "      <use xlink:href=\"#DejaVuSans-32\" transform=\"translate(306.640625 -15.625)scale(0.7)\"/>\n",
       "     </g>\n",
       "    </g>\n",
       "   </g>\n",
       "   <g id=\"text_3\">\n",
       "    <g clip-path=\"url(#pdabbcbfdc6)\">\n",
       "     <!-- $Group_3$ -->\n",
       "     <g transform=\"translate(305.353781 151.383828)scale(0.125 -0.125)\">\n",
       "      <defs>\n",
       "       <path id=\"DejaVuSans-33\" d=\"M 2597 2516 \n",
       "Q 3050 2419 3304 2112 \n",
       "Q 3559 1806 3559 1356 \n",
       "Q 3559 666 3084 287 \n",
       "Q 2609 -91 1734 -91 \n",
       "Q 1441 -91 1130 -33 \n",
       "Q 819 25 488 141 \n",
       "L 488 750 \n",
       "Q 750 597 1062 519 \n",
       "Q 1375 441 1716 441 \n",
       "Q 2309 441 2620 675 \n",
       "Q 2931 909 2931 1356 \n",
       "Q 2931 1769 2642 2001 \n",
       "Q 2353 2234 1838 2234 \n",
       "L 1294 2234 \n",
       "L 1294 2753 \n",
       "L 1863 2753 \n",
       "Q 2328 2753 2575 2939 \n",
       "Q 2822 3125 2822 3475 \n",
       "Q 2822 3834 2567 4026 \n",
       "Q 2313 4219 1838 4219 \n",
       "Q 1578 4219 1281 4162 \n",
       "Q 984 4106 628 3988 \n",
       "L 628 4550 \n",
       "Q 988 4650 1302 4700 \n",
       "Q 1616 4750 1894 4750 \n",
       "Q 2613 4750 3031 4423 \n",
       "Q 3450 4097 3450 3541 \n",
       "Q 3450 3153 3228 2886 \n",
       "Q 3006 2619 2597 2516 \n",
       "z\n",
       "\" transform=\"scale(0.015625)\"/>\n",
       "      </defs>\n",
       "      <use xlink:href=\"#DejaVuSans-Oblique-47\" transform=\"translate(0 0.78125)\"/>\n",
       "      <use xlink:href=\"#DejaVuSans-Oblique-72\" transform=\"translate(77.490234 0.78125)\"/>\n",
       "      <use xlink:href=\"#DejaVuSans-Oblique-6f\" transform=\"translate(118.603516 0.78125)\"/>\n",
       "      <use xlink:href=\"#DejaVuSans-Oblique-75\" transform=\"translate(179.785156 0.78125)\"/>\n",
       "      <use xlink:href=\"#DejaVuSans-Oblique-70\" transform=\"translate(243.164062 0.78125)\"/>\n",
       "      <use xlink:href=\"#DejaVuSans-33\" transform=\"translate(306.640625 -15.625)scale(0.7)\"/>\n",
       "     </g>\n",
       "    </g>\n",
       "   </g>\n",
       "   <g id=\"text_4\">\n",
       "    <g clip-path=\"url(#pdabbcbfdc6)\">\n",
       "     <!-- $b_1$ -->\n",
       "     <g transform=\"translate(13.03055 118.205161)scale(0.125 -0.125)\">\n",
       "      <defs>\n",
       "       <path id=\"DejaVuSans-Oblique-62\" d=\"M 3169 2138 \n",
       "Q 3169 2591 2961 2847 \n",
       "Q 2753 3103 2388 3103 \n",
       "Q 2122 3103 1889 2973 \n",
       "Q 1656 2844 1484 2597 \n",
       "Q 1303 2338 1198 1995 \n",
       "Q 1094 1653 1094 1313 \n",
       "Q 1094 881 1298 636 \n",
       "Q 1503 391 1863 391 \n",
       "Q 2134 391 2365 517 \n",
       "Q 2597 644 2772 891 \n",
       "Q 2950 1147 3059 1487 \n",
       "Q 3169 1828 3169 2138 \n",
       "z\n",
       "M 1381 2969 \n",
       "Q 1594 3256 1914 3420 \n",
       "Q 2234 3584 2584 3584 \n",
       "Q 3122 3584 3439 3221 \n",
       "Q 3756 2859 3756 2241 \n",
       "Q 3756 1734 3570 1259 \n",
       "Q 3384 784 3041 416 \n",
       "Q 2816 172 2522 40 \n",
       "Q 2228 -91 1906 -91 \n",
       "Q 1566 -91 1316 65 \n",
       "Q 1066 222 909 531 \n",
       "L 806 0 \n",
       "L 231 0 \n",
       "L 1178 4863 \n",
       "L 1753 4863 \n",
       "L 1381 2969 \n",
       "z\n",
       "\" transform=\"scale(0.015625)\"/>\n",
       "      </defs>\n",
       "      <use xlink:href=\"#DejaVuSans-Oblique-62\" transform=\"translate(0 0.015625)\"/>\n",
       "      <use xlink:href=\"#DejaVuSans-31\" transform=\"translate(63.476562 -16.390625)scale(0.7)\"/>\n",
       "     </g>\n",
       "    </g>\n",
       "   </g>\n",
       "   <g id=\"text_5\">\n",
       "    <g clip-path=\"url(#pdabbcbfdc6)\">\n",
       "     <!-- $b_2$ -->\n",
       "     <g transform=\"translate(136.941281 100.881657)scale(0.125 -0.125)\">\n",
       "      <use xlink:href=\"#DejaVuSans-Oblique-62\" transform=\"translate(0 0.015625)\"/>\n",
       "      <use xlink:href=\"#DejaVuSans-32\" transform=\"translate(63.476562 -16.390625)scale(0.7)\"/>\n",
       "     </g>\n",
       "    </g>\n",
       "   </g>\n",
       "   <g id=\"text_6\">\n",
       "    <g clip-path=\"url(#pdabbcbfdc6)\">\n",
       "     <!-- $S_{12}$ -->\n",
       "     <g transform=\"translate(134.128781 201.936781)scale(0.125 -0.125)\">\n",
       "      <defs>\n",
       "       <path id=\"DejaVuSans-Oblique-53\" d=\"M 3859 4513 \n",
       "L 3738 3897 \n",
       "Q 3422 4066 3111 4152 \n",
       "Q 2800 4238 2509 4238 \n",
       "Q 1944 4238 1609 3991 \n",
       "Q 1275 3744 1275 3334 \n",
       "Q 1275 3109 1398 2989 \n",
       "Q 1522 2869 2034 2731 \n",
       "L 2413 2638 \n",
       "Q 3053 2472 3303 2217 \n",
       "Q 3553 1963 3553 1503 \n",
       "Q 3553 797 2998 353 \n",
       "Q 2444 -91 1538 -91 \n",
       "Q 1166 -91 791 -17 \n",
       "Q 416 56 38 206 \n",
       "L 166 856 \n",
       "Q 513 641 861 531 \n",
       "Q 1209 422 1556 422 \n",
       "Q 2147 422 2503 684 \n",
       "Q 2859 947 2859 1369 \n",
       "Q 2859 1650 2717 1795 \n",
       "Q 2575 1941 2106 2059 \n",
       "L 1728 2156 \n",
       "Q 1081 2325 845 2545 \n",
       "Q 609 2766 609 3163 \n",
       "Q 609 3859 1145 4304 \n",
       "Q 1681 4750 2541 4750 \n",
       "Q 2875 4750 3203 4690 \n",
       "Q 3531 4631 3859 4513 \n",
       "z\n",
       "\" transform=\"scale(0.015625)\"/>\n",
       "      </defs>\n",
       "      <use xlink:href=\"#DejaVuSans-Oblique-53\" transform=\"translate(0 0.78125)\"/>\n",
       "      <use xlink:href=\"#DejaVuSans-31\" transform=\"translate(63.476562 -15.625)scale(0.7)\"/>\n",
       "      <use xlink:href=\"#DejaVuSans-32\" transform=\"translate(108.012695 -15.625)scale(0.7)\"/>\n",
       "     </g>\n",
       "    </g>\n",
       "   </g>\n",
       "   <g id=\"text_7\">\n",
       "    <g clip-path=\"url(#pdabbcbfdc6)\">\n",
       "     <!-- $S_{23}$ -->\n",
       "     <g transform=\"translate(256.528781 201.936781)scale(0.125 -0.125)\">\n",
       "      <use xlink:href=\"#DejaVuSans-Oblique-53\" transform=\"translate(0 0.78125)\"/>\n",
       "      <use xlink:href=\"#DejaVuSans-32\" transform=\"translate(63.476562 -15.625)scale(0.7)\"/>\n",
       "      <use xlink:href=\"#DejaVuSans-33\" transform=\"translate(108.012695 -15.625)scale(0.7)\"/>\n",
       "     </g>\n",
       "    </g>\n",
       "   </g>\n",
       "   <g id=\"text_8\">\n",
       "    <g clip-path=\"url(#pdabbcbfdc6)\">\n",
       "     <!-- $b_3$ -->\n",
       "     <g transform=\"translate(196.50068 60.391024)scale(0.125 -0.125)\">\n",
       "      <use xlink:href=\"#DejaVuSans-Oblique-62\" transform=\"translate(0 0.015625)\"/>\n",
       "      <use xlink:href=\"#DejaVuSans-33\" transform=\"translate(63.476562 -16.390625)scale(0.7)\"/>\n",
       "     </g>\n",
       "    </g>\n",
       "   </g>\n",
       "  </g>\n",
       " </g>\n",
       " <defs>\n",
       "  <clipPath id=\"pdabbcbfdc6\">\n",
       "   <rect x=\"7.2\" y=\"7.2\" width=\"354.002956\" height=\"205.141824\"/>\n",
       "  </clipPath>\n",
       " </defs>\n",
       "</svg>\n"
      ],
      "text/plain": [
       "<schemdraw.backends.mpl.Figure object at 0x7f671d0a0a30>"
      ]
     },
     "metadata": {},
     "output_type": "display_data"
    }
   ],
   "source": [
    "with schemdraw.Drawing() as d:\n",
    "    d += (p1 := flow.Circle(r=1).label('$Group_1$'))\n",
    "    d += (p2 := flow.Circle(r=1).at((4, 0)).label('$Group_2$'))\n",
    "    d += (p3 := flow.Circle(r=1).at((8, 0)).label('$Group_3$'))\n",
    "    \n",
    "    d += elm.ArcLoop(arrow='->').at(p1.W).to(p1.NW).label('$b_1$')\n",
    "    d += elm.Arc2(arrow='<-').at(p1.NE).to(p2.NW).label('$b_2$')\n",
    "    d += elm.Arc2(arrow='<-').at(p2.SW).to(p1.SE).label('$S_{12}$')\n",
    "    d += elm.Arc2(arrow='<-').at(p3.SW).to(p2.SE).label('$S_{23}$')\n",
    "    d += elm.Arc2(arrow='<-').at(p1.N).to(p3.NW).label('$b_3$')   "
   ]
  },
  {
   "cell_type": "markdown",
   "id": "c386f556",
   "metadata": {},
   "source": [
    "\n",
    "\\begin{align}\n",
    "P_1(N+1)&=b_1P_1(N)+b_2P_2(N)+b_3P_3(N)\\\\\n",
    "P_2(N+1)&=S_{12}P_1(N)\\\\\n",
    "P_3(N+1)&=S_{23}P_2(N)\\\\\n",
    "T&=E+I\\\\\n",
    "P_{total}(N+1)&=P_1(N+1)+P_2(N+1)+P_3(N+1)+T\\\\\n",
    "P_{total}(N+1)&=b_1P_1(N)+b_2P_2(N)+b_3P_3(N)+S_{12}P_1(N)+S_{23}P_2(N)+(E+I)\\\\\n",
    "\\end{align}\n",
    "Suppose $D_i$ is death from each group then,\n",
    "$$D_i(N+1)=(1-S_{ij})P_i(N)$$"
   ]
  },
  {
   "cell_type": "markdown",
   "id": "20f7ffc7",
   "metadata": {},
   "source": [
    "# Extended model analyses"
   ]
  },
  {
   "cell_type": "markdown",
   "id": "11262e68",
   "metadata": {},
   "source": [
    "In the real world, California's population statistics in recent years show that the population is growing, with the proportion of the elderly increasing year by year and the proportion of adults and children decreasing. The consequence of this situation is the shortage of labour force brought by the ageing population and the small number of children, which directly leads to the decline of the urban economy. This is the result of the analysis of the model, and the following is the analysis process."
   ]
  },
  {
   "cell_type": "markdown",
   "id": "7cbffec0",
   "metadata": {},
   "source": [
    "From the above model extension, we divided the population into three parts according to age. In addition, we have established the model of migration, because it is more convenient for us to find the corresponding data and determine the migration population more accurately. The reasons will show below.\n",
    "\n",
    "In the model we have the equation:\n",
    "\n",
    "\n",
    "$$P_1(N+1)=b_1P_1(N)+b_2P_2(N)+b_3P_3(N)$$"
   ]
  },
  {
   "cell_type": "markdown",
   "id": "96bbdfb8",
   "metadata": {},
   "source": [
    "It's well known that elderly have very low fertility because of their declining physical function and that means very low birth rate $b_3$. And the number of the elderly poppulaiton $P_3$ is increasing due to the improvement of the medical level. And then the increasing in population of adults $P_2$ and children $P_1$ passing background checks has been falling. To sum up, the increase in future births $P_1$(N+1) will be lower."
   ]
  },
  {
   "cell_type": "markdown",
   "id": "c1edd249",
   "metadata": {},
   "source": [
    "We obtain the first group (0 - 24 years old) of the population by calculating the birth-giving from different ages, so we’re obtaining information about the number of young people in the population, which is the future workforce. So through the data, we can get the number of teenagers, so as to judge whether the amount of this population has met the demand of the labour force in the city.\n",
    "\n",
    "$$P_2(N+1)=S_{12}P_1(N)$$\n",
    "\n",
    "We can get survival rates by looking at the death rates at each age group and that will help us do the maths. On the other hand, it benefits us to calculate the number of deaths in each age group.\n",
    "\n",
    "\n",
    "$$P_3(N+1)=S_{23}P_2(N)$$\n",
    "\n",
    "The survoval rate $s_{23}$ rate is rising because of improved medical care, therefore the future elderly population $P_3(N+1)$ is increasing. By obtaining the information about the elderly population, we compared it with the total population to get the proportion of the elderly. If the proportion of the elderly is higher than the standard, the government can take measures in advance to prevent the ageing of the population. Because the elderly do not have the ability to work and give birth is extremely limited, so it will lead to a lack of labour force and affect the economy.\n",
    "\n",
    "We found population data for 2015 and 2020."
   ]
  },
  {
   "cell_type": "markdown",
   "id": "4ed8df4f",
   "metadata": {},
   "source": [
    "\\begin{align}\n",
    "P_{total}(N+1)&=b_1P_1(N)+b_2P_2(N)+b_3P_3(N)+S_{12}P_1(N)+S_{23}P_2(N)+(E+I)\\\\\n",
    "\\end{align}\n",
    "\n",
    "To sum up, the future children population $P_1(N+1)$ is decreasing since the low birth rate $b_3$ , and the increase in the population of adults $P_2$ and children $P_1$ are falling. The future elderly population $P_3(N+1)$ are increasing since high surivial rate $s_{23}$. So as the population grows, the proportion of older people increases, while the proportion of adults and children decreases."
   ]
  },
  {
   "cell_type": "code",
   "execution_count": 3,
   "id": "3971fecf",
   "metadata": {},
   "outputs": [
    {
     "name": "stdout",
     "output_type": "stream",
     "text": [
      "Requirement already satisfied: tabulate in /opt/conda/lib/python3.9/site-packages (0.8.9)\n",
      "Note: you may need to restart the kernel to use updated packages.\n"
     ]
    }
   ],
   "source": [
    "pip install tabulate"
   ]
  },
  {
   "cell_type": "code",
   "execution_count": 117,
   "id": "8a7c91d8",
   "metadata": {},
   "outputs": [
    {
     "name": "stdout",
     "output_type": "stream",
     "text": [
      "╒══════╤══════════╤══════════╤═════════╤══════════╕\n",
      "│      │ Group 1  │ Group 2  │ Group 3 │ Total    │\n",
      "├──────┼──────────┼──────────┼─────────┼──────────┤\n",
      "│ 2010 │ 13296373 │ 19832512 │ 4257827 │ 37386712 │\n",
      "├──────┼──────────┼──────────┼─────────┼──────────┤\n",
      "│ 2015 │ 13074369 │ 20903333 │ 5167115 │ 39144817 │\n",
      "├──────┼──────────┼──────────┼─────────┼──────────┤\n",
      "│ 2020 │ 12731407 │ 21073872 │ 5653965 │ 39459244 │\n",
      "╘══════╧══════════╧══════════╧═════════╧══════════╛\n",
      "╒════════════╤═════════╤═════════╤═════════╕\n",
      "│ Birth rate │ Group 1 │ Group 2 │ Group 3 │\n",
      "├────────────┼─────────┼─────────┼─────────┤\n",
      "│ 2010       │ 15.029% │ 54.941% │ 4.226%  │\n",
      "╘════════════╧═════════╧═════════╧═════════╛\n"
     ]
    }
   ],
   "source": [
    "from tabulate import tabulate\n",
    "table1 = [['','Group 1', 'Group 2', 'Group 3', 'Total'], \n",
    "[2010, 13296373, 19832512, 4257827, 37386712],\n",
    "[2015, 13074369, 20903333, 5167115, 39144817],\n",
    "[2020, 12731407, 21073872, 5653965, 39459244]]\n",
    "print(tabulate(table1, tablefmt='fancy_grid'))\n",
    "\n",
    "table2 = [['Birth rate', 'Group 1', 'Group 2', 'Group 3'],\n",
    "          [2010, '15.029%', '54.941%', '4.226%']\n",
    "]\n",
    "print(tabulate(table2, tablefmt='fancy_grid'))"
   ]
  },
  {
   "cell_type": "markdown",
   "id": "b7af3e1c",
   "metadata": {},
   "source": [
    "Then, we can do a simulation, demonstrating the accuracy of the model."
   ]
  },
  {
   "cell_type": "markdown",
   "id": "5a71a15b",
   "metadata": {},
   "source": [
    "\n",
    "$$P_1(N+1)=15.029\\% * 13296373+54.941\\% * 19832512+4.226\\% * 4257827$$\n",
    "\n",
    "$$P_1(N+1)=13074428$$\n",
    "\n",
    "$$S_{12}=\\frac{P_2(N+1)}{P_1(N)}=\\frac{20903333}{13296373}=1.57211$$\n",
    "\n",
    "$$S_{23}=\\frac{P_3(N+1)}{P_2(N)}=\\frac{5167115}{19832512}=0.261$$\n",
    "\n",
    "Therefore: Simulate 2020\n",
    "\n",
    "$$P_1(N+1)=15.029\\% * 13074369+54.941\\% * 20903333+4.226\\% * 5167115P_1(N+1)=13667809$$\n",
    "\n",
    "$$P_2(N+1)=1.57211*13074369=20554346$$\n",
    "\n",
    "$$P_3(N+1)=0.261*20903333=5455769.913$$\n"
   ]
  },
  {
   "cell_type": "markdown",
   "id": "bcaedcfa",
   "metadata": {},
   "source": [
    "The data we got from the above calculations are very realistic, so our model is very successful.\n"
   ]
  },
  {
   "cell_type": "markdown",
   "id": "5daa3a7d",
   "metadata": {},
   "source": [
    "# Stochastic element"
   ]
  },
  {
   "cell_type": "markdown",
   "id": "614e4c49",
   "metadata": {},
   "source": [
    "If we go with the base model, parameters are fixed then we can predict the population in 2020. \n",
    "\n",
    "However, the base model simulated population result for 2020 is 100.852 million which is way far from the real population(39.538million)."
   ]
  },
  {
   "cell_type": "code",
   "execution_count": 118,
   "id": "79c7cefb",
   "metadata": {
    "scrolled": true
   },
   "outputs": [
    {
     "name": "stdout",
     "output_type": "stream",
     "text": [
      "P(1960)= 15206.000009735999\n",
      "P(2020)= 100852.68481575891\n"
     ]
    }
   ],
   "source": [
    "I = 1\n",
    "B = 0.1315060\n",
    "D = 0.0472744\n",
    "M = 0.086541422\n",
    "def P(t):\n",
    "    if t == 1955:\n",
    "        return 12988\n",
    "    else:\n",
    "        return P(t - 5) * (I + B - D + M)\n",
    "\n",
    "print('P(1960)=',P(1960))\n",
    "print('P(2020)=',P(2020))"
   ]
  },
  {
   "cell_type": "markdown",
   "id": "50f7ecff",
   "metadata": {},
   "source": [
    "Parameters like birth rate, death rate, and migration in the model are random in nature. To explore the stochasticity in the base model, I assume birth rate is  randomly changing during the years and the other parameters are fixed. "
   ]
  },
  {
   "cell_type": "markdown",
   "id": "431d0410",
   "metadata": {},
   "source": [
    "From the research it shows that  birth rate have a downward trend as years goes by ((Exploring Recent Trends in California Births,2021). \n",
    "\n",
    "Since the birth rate has a downward trend I use $e^{-x}$ to illustrate that as the year goes by the rate is going down. To show the variation, I add a Noise using the normal distribution to figure out the stochasticity. Therefore, I can conclude that the birth rate form is as follow. "
   ]
  },
  {
   "cell_type": "markdown",
   "id": "c01f0f4f",
   "metadata": {},
   "source": [
    "\n",
    "\\begin{equation}\n",
    "b_1 =C_1*e^{-x}+N_1\n",
    "\\end{equation}\n",
    "\n",
    "\\begin{equation}\n",
    "b_2 =C_2*e^{-x}+N_2\n",
    "\\end{equation}\n",
    "\n",
    "$N_1$: Noise for California birth rate\n",
    "\n",
    "$N_2$: Noise for the rest of U.S. birth rate\n",
    "\n",
    "$x$: Time per 5 years"
   ]
  },
  {
   "cell_type": "markdown",
   "id": "6a9da979",
   "metadata": {},
   "source": [
    "And let the birth rate per 5 years goes with random distribution. We are trying to figure out what happen to the population in 2020 both in California and the rest of U.S."
   ]
  },
  {
   "cell_type": "code",
   "execution_count": 22,
   "id": "ba9b043a",
   "metadata": {},
   "outputs": [],
   "source": [
    "import numpy as np\n",
    "import math"
   ]
  },
  {
   "cell_type": "code",
   "execution_count": 23,
   "id": "9734c4ea",
   "metadata": {},
   "outputs": [],
   "source": [
    "from numpy import random"
   ]
  },
  {
   "cell_type": "code",
   "execution_count": 24,
   "id": "7a446b58",
   "metadata": {},
   "outputs": [
    {
     "name": "stdout",
     "output_type": "stream",
     "text": [
      "{1: 9.477670668357391e-05, 2: 8.905946899942109e-05, 3: -0.0002592158335034065, 4: 0.0003481465885111614, 5: 0.00036680567564996967, 6: 0.0011625383454123266, 7: 0.0004515853638574816, 8: -0.0003768922108929155, 9: -9.635474380602595e-05, 10: 0.0004362516793107168, 11: 2.2572741719435752e-05, 12: 0.00040707151328560115, 13: -0.0002377038848294195}\n",
      "\n",
      "{1: -0.00011556298446203964, 2: -1.1602106610283549e-05, 3: -4.026190616746485e-05, 4: -0.0007655942536002391, 5: -4.3131769780926066e-05, 6: -0.00019753459979833364, 7: -7.855181804328109e-05, 8: 0.00017921105153967444, 9: 0.00021049270242840697, 10: -0.00019917191688644694, 11: -0.00016540409173994628, 12: 0.0003161805354725462, 13: -4.5039496372952324e-05}\n",
      "\n",
      "{1: -0.00014032720502971097, 2: -0.0002955166644457507, 3: -0.000138645089209534, 4: 0.00018954255426590418, 5: -5.123131913270129e-05, 6: 0.0003981640183566643, 7: 8.339926099916132e-05, 8: 0.00023151271692303818, 9: -0.00023206426313334482, 10: 0.0003720417647848421, 11: 9.971476392709111e-05, 12: -0.0002986955885148607, 13: 9.208165560258002e-07}\n",
      "\n",
      "{1: 9.807762603452533e-05, 2: 0.00034404990293567406, 3: -7.631864972783173e-05, 4: -2.250392294431509e-05, 5: 0.0002116946270935062, 6: 0.00011281374828877925, 7: -0.0005036602313042229, 8: -0.00012286939446321226, 9: -0.000640525590881524, 10: 0.0005675041521925367, 11: -8.464887988638926e-05, 12: 0.0006699934289483902, 13: -0.00017554940873446484}\n",
      "\n",
      "{1: 0.0001050325310446528, 2: -0.0002005817620609823, 3: 0.0002451497739309879, 4: 0.00010640956577374908, 5: 0.0003304740534263433, 6: 2.2278757752336107e-05, 7: 0.0001874760293280224, 8: 0.0003160807619836335, 9: 0.0004924414830916658, 10: 1.4802815006878215e-05, 11: -5.3239651796232665e-06, 12: -0.0002611393738498722, 13: -0.000723057755858684}\n",
      "\n",
      "{1: 4.740390314674054e-05, 2: 9.878640361229904e-05, 3: -0.0007551938611441183, 4: -0.0002313659513525972, 5: 0.0008045532344779621, 6: -0.0002366423605483661, 7: 0.0003796854661678493, 8: -0.0003475467385164528, 9: -3.2179914174952255e-05, 10: -0.00023176223851345922, 11: -0.00012712665520893507, 12: -0.0002846609080919292, 13: -1.899368322504381e-05}\n",
      "\n",
      "{1: -0.00013238837605050613, 2: -0.00044283113553977214, 3: -1.4281476820245405e-05, 4: -3.443694031162992e-05, 5: -4.4441804388382715e-05, 6: 0.00032699892093686393, 7: 5.923883657030256e-05, 8: -8.225891524222202e-06, 9: 0.00011854490169246438, 10: 0.0002731483991741659, 11: 0.0005373624487288656, 12: -0.0005966187157557023, 13: 4.6337733549585577e-05}\n",
      "\n",
      "{1: 0.0003486134354100866, 2: -0.00010079404298638985, 3: -0.00018549410583419744, 4: 0.0002014666699240615, 5: -0.0008010013136140328, 6: 0.0001724174540499105, 7: -0.00044834352840450285, 8: -0.00013097272544628373, 9: -0.00021483219811978323, 10: -0.00013852596235587388, 11: -0.0002615972439001519, 12: 0.00017608688889003514, 13: 0.0004406343287820732}\n",
      "\n",
      "{1: -2.167308561313319e-05, 2: -2.6319992676791353e-07, 3: -0.00022584534626445717, 4: 0.0002544307611334739, 5: 0.0004655447165587792, 6: -2.004607272141028e-05, 7: -0.00014473723526379394, 8: 0.0002533261443372095, 9: 6.213059619770315e-05, 10: 0.0004885046851980459, 11: 0.000197006806122248, 12: 0.0001329508853393638, 13: -0.00033883745743453863}\n",
      "\n",
      "{1: 1.7768221709143394e-05, 2: -0.00042591943218526324, 3: -0.00015423889039865602, 4: -0.00015456137671910686, 5: -0.00047029006984102657, 6: -6.871538680079687e-05, 7: -0.00015072788212376536, 8: -0.00038007806595200596, 9: -0.0005983125900131121, 10: 0.0004213012118326849, 11: -0.0004487417201665623, 12: 6.588815887727594e-05, 13: 0.00025808032791712336}\n",
      "\n",
      "{1: 0.00027710030486861756, 2: 0.00024113685437174935, 3: -0.0004645929730867155, 4: 0.00018491256583205213, 5: -0.00023114535807442751, 6: -0.0003392660083669302, 7: -0.00038751320310019256, 8: -0.0003612381762002606, 9: -0.00027973126315742827, 10: -0.00017164077704038617, 11: -0.00010348358267085258, 12: -4.104395177376294e-05, 13: 8.97395746828361e-05}\n",
      "\n",
      "{1: 0.0005354244354404466, 2: -0.0003180919984033428, 3: 0.00018608894546455875, 4: 0.0003018127257162868, 5: 0.00040587119494631894, 6: -0.0004344219098159765, 7: 0.0001147818354540703, 8: -0.0003440335973521714, 9: -0.00021712314842584445, 10: 0.00020676688389853216, 11: 0.0007418095084300798, 12: 0.0002607950868868935, 13: -0.0002678582490510043}\n",
      "\n",
      "{1: -3.5666532207522715e-05, 2: 0.00023531267053151944, 3: -7.57859120216067e-05, 4: 0.00015961347267539242, 5: 0.0003330057757269161, 6: 7.784877430875414e-05, 7: -1.026098462316107e-05, 8: 0.0004944569709303486, 9: 0.0004820306607673605, 10: 6.896864899163476e-06, 11: 0.00042745180423541765, 12: 4.738785304407826e-05, 13: -1.4355057069883438e-05}\n",
      "\n",
      "{1: -7.904879090696143e-06, 2: 0.00021805931976072164, 3: -0.00033330361094305647, 4: -0.0001761303497965494, 5: -0.0004782971782047503, 6: -0.00024085031340962605, 7: -0.0002919054244617252, 8: 0.00027544862303147, 9: -0.0010910362940021172, 10: -0.00025311449849025757, 11: 0.0004065410693129801, 12: -0.0005361524586533031, 13: -0.0004188851360576951}\n",
      "\n",
      "{1: -0.0005268216443484338, 2: -0.00019758408807526604, 3: -0.00024443237455134225, 4: -0.0001403823720934291, 5: -0.00012085793276332034, 6: -0.0007037394236023724, 7: -0.0002926497553399076, 8: -0.00035143560183351557, 9: 6.66202212773673e-05, 10: -2.949870594343946e-05, 11: 0.0002868940694228482, 12: 0.00020512197409609177, 13: 4.342818129058505e-05}\n",
      "\n",
      "{1: -0.00013378544386023145, 2: -0.0004204672628175996, 3: -5.097007155496241e-05, 4: -0.00015517374641538917, 5: 4.361428855465337e-05, 6: 0.0005211038323308875, 7: -0.0001654684228338105, 8: 5.138009628603575e-05, 9: 0.0006360319607634804, 10: -0.0002085458879142427, 11: 0.0001512063855180086, 12: 0.0003122745075391781, 13: 2.4060851754992163e-05}\n",
      "\n",
      "{1: 0.00019476217561088184, 2: -0.00037423776958118787, 3: -0.0009325732270563704, 4: 0.0003153113955473904, 5: 0.0004031755797060419, 6: 0.0002467547397472672, 7: 0.000357288351081279, 8: 0.0002008740723211514, 9: 0.00018789854230104598, 10: -1.5012606534965458e-05, 11: -9.747394181777711e-05, 12: 0.00034569814027105125, 13: -5.9515100968468614e-05}\n",
      "\n",
      "{1: -0.00012829823255716393, 2: -0.00021480986071552996, 3: 0.00029740600843760034, 4: -0.00016480605276160458, 5: 2.6052523451655716e-05, 6: 0.00020361792603856954, 7: -0.00032245032884727613, 8: 0.0005357653114122737, 9: -7.90617465826259e-05, 10: -0.0004301018017578086, 11: 0.00038796909484996393, 12: -0.00030679947427486424, 13: -1.804333472410523e-08}\n",
      "\n",
      "{1: 6.348566983531674e-07, 2: -0.0004310686835976172, 3: 0.0002096201509188829, 4: -0.0001920062854507558, 5: 0.00038447854892954093, 6: 0.0004641801766109965, 7: 0.0004612543629338652, 8: 0.0004061515290922235, 9: -0.00044254808113683913, 10: 1.2994980081225502e-06, 11: 0.00016079080221539387, 12: 0.00022498814465083522, 13: -0.00035562815716971835}\n",
      "\n",
      "{1: 0.00047422459005979625, 2: -0.00010365836538349443, 3: -0.00038047223234118126, 4: 0.00045014323546445963, 5: 0.0004407693057644165, 6: -0.00038430071549858325, 7: 0.0001582475076859903, 8: 0.00017960448422980527, 9: -0.0005438544594911629, 10: 6.789445068243046e-05, 11: -0.00047269518590090077, 12: -9.116261936180486e-05, 13: -0.0003521668845590398}\n",
      "\n",
      "{1: 0.00017539031225847327, 2: 0.00022697258939249914, 3: 0.00027173169965049964, 4: -0.00023174470405191527, 5: 0.00037468265578563303, 6: 0.00046133385885979987, 7: 0.0003480294041490188, 8: 3.1987840050961996e-05, 9: 0.0005655500079564755, 10: 7.886356615140762e-05, 11: -0.0002159353468868772, 12: -0.0004986779963255665, 13: 2.5856076164389172e-05}\n",
      "\n",
      "{1: -8.362643035136427e-05, 2: 0.0001865988274950193, 3: -0.00047288116696459425, 4: 0.00018112115024881753, 5: -4.760705376237342e-06, 6: -0.00031710065404692205, 7: 8.717331004813713e-05, 8: 0.0001486853042555774, 9: -5.179088549222672e-06, 10: 1.1420107007996262e-05, 11: 0.00040719389481538545, 12: -4.792027086902166e-05, 13: 3.317216899154106e-05}\n",
      "\n",
      "{1: -0.00017318811092365704, 2: -0.00024073527975262997, 3: 5.068572603448439e-05, 4: 0.00011142675182654792, 5: -0.00013518170969435296, 6: -7.685761290626257e-06, 7: 0.0003754266362563053, 8: -6.766530926600674e-05, 9: 0.00015702883697855206, 10: -1.7248303501081585e-05, 11: -0.00010427396260725355, 12: -4.677241058316905e-05, 13: 0.00013178335220363592}\n",
      "\n",
      "{1: -0.0003266103277675977, 2: -0.00011054916952673068, 3: 4.356361074377465e-05, 4: -0.00017257706650548472, 5: 0.00010556288524498421, 6: -0.0004671710112190393, 7: -8.585432906978711e-05, 8: 0.00035788485889445777, 9: 0.0005506715924182444, 10: 0.0005534646687780528, 11: -8.628990981445187e-05, 12: -0.00027848450889193164, 13: 0.0005445666601032672}\n",
      "\n",
      "{1: 0.00037284909241276697, 2: 0.0002577300372532612, 3: 0.0003342540224585387, 4: 5.514490788008511e-06, 5: -0.0002986934775343635, 6: 9.31017954179826e-05, 7: 7.418197204191042e-05, 8: 0.00014988581797058825, 9: -0.00028459512896653657, 10: 7.461410936038017e-05, 11: 0.0001956929924197615, 12: -0.0002514204956814666, 13: 0.0002655405865199054}\n",
      "\n",
      "{1: 7.581567427060008e-05, 2: -0.0002934562605149659, 3: 7.126170342401326e-06, 4: 0.00020547939042071486, 5: -0.00039088337254877044, 6: -0.00022309483522091293, 7: 0.00019208592049814617, 8: 0.00018777253386256551, 9: -0.00016399693260986137, 10: -0.0003055167364365503, 11: 0.0002534908477026975, 12: -0.0003832462632805155, 13: 0.0002476947976814136}\n",
      "\n",
      "{1: 0.0002367603434052426, 2: -0.000247202346361644, 3: 7.908791347745305e-05, 4: 0.0003396602728424139, 5: -0.0003288295438688308, 6: 0.0002897153974352806, 7: 6.786120654627738e-05, 8: 8.061371703134156e-05, 9: 0.00015048770500352337, 10: 0.0008091763653336142, 11: -0.000607646567362328, 12: 0.000321950304409034, 13: 0.0001399381234995273}\n",
      "\n",
      "{1: -3.4803116012264965e-05, 2: 0.00022545825843144207, 3: -0.00014720638293092835, 4: 0.00015594661572151985, 5: -0.00038511968998170064, 6: 0.00029008665435708246, 7: -0.00023356057825828024, 8: -2.4137187767671328e-05, 9: -0.0002253655914469275, 10: -0.00011353987715445272, 11: -3.126773681127111e-05, 12: 0.00017951298888442928, 13: 8.22430780162977e-06}\n",
      "\n",
      "{1: -0.0004739813119337906, 2: -0.0006759683449002418, 3: 0.0001813043562896725, 4: -5.379757866234901e-05, 5: -1.3475538068179734e-05, 6: -4.5076712708271753e-05, 7: 0.00013715274429760256, 8: 7.763835245482786e-05, 9: -0.0001384166926565687, 10: 0.00034256864323503123, 11: 5.962910137868711e-05, 12: -0.00021272368794544597, 13: 0.00021960747568035432}\n",
      "\n",
      "{1: -0.0003178653065542597, 2: 0.0005431760617778992, 3: 5.804896380224796e-05, 4: -6.478829259140842e-05, 5: 0.00012679727100567027, 6: -0.00039296205547666494, 7: 0.0005070309667078812, 8: 0.0002634875213607593, 9: -0.00021346681631729392, 10: 7.3391485722060486e-06, 11: -2.3160939231759138e-05, 12: -3.8824197294737635e-05, 13: -0.0005400487612080201}\n",
      "\n"
     ]
    }
   ],
   "source": [
    "list_2020 = []\n",
    "for i in range(30):\n",
    "    ls = random.normal(0,0.0003,size=13)\n",
    "    #By doing the normal distribution creat the proper Noises\n",
    "    #randomly pick 13 Noises to fit per capita birth rate in California\n",
    "    my_dict={}\n",
    "    for i in range(1,14):\n",
    "        my_dict[i] = ls[i-1]\n",
    "    print(my_dict)\n",
    "    print()\n",
    "    list_2020.append(my_dict)\n",
    "    \n",
    "\n",
    "# California use the data from description\n",
    "#apply the new parameter b_1 to the base model\n",
    "\n",
    "I = 1\n",
    "D = 0.0472744\n",
    "M = 0.086541422\n",
    "def P(t, index):\n",
    "    if t == 1955:\n",
    "        return 12988\n",
    "    else:\n",
    "        x = (t-1955)/5\n",
    "        n = list_2020[index][x]\n",
    "        b1 = 0.0485*math.exp(-x)+n\n",
    "        return P(t - 5, index) * (I + b1 - D + M)\n",
    "    \n",
    "L = []\n",
    "for index in range(30):\n",
    "    L.append(P(2020, index))\n",
    "    \n",
    "# print('L',L) to check the list of California population in 2020\n"
   ]
  },
  {
   "cell_type": "code",
   "execution_count": 25,
   "id": "e1c54b56",
   "metadata": {},
   "outputs": [],
   "source": [
    "# print(L)"
   ]
  },
  {
   "cell_type": "code",
   "execution_count": 26,
   "id": "70253ce3",
   "metadata": {},
   "outputs": [
    {
     "data": {
      "image/png": "[encoded data removed]",
      "text/plain": [
       "<Figure size 432x288 with 1 Axes>"
      ]
     },
     "metadata": {
      "needs_background": "light"
     },
     "output_type": "display_data"
    }
   ],
   "source": [
    "import matplotlib.pyplot as plt\n",
    "\n",
    "\n",
    "x= [i for i in range(30)]\n",
    "plt.plot(x, L)\n",
    "plt.show()"
   ]
  },
  {
   "cell_type": "markdown",
   "id": "4d7f8de7",
   "metadata": {},
   "source": [
    "From the above graph we can see the randomly chosed 30 list of Noise to form the population in California. We can see thorough the line graph it has some value closed to the reality data 39.538 million. "
   ]
  },
  {
   "cell_type": "code",
   "execution_count": 125,
   "id": "3510b066",
   "metadata": {},
   "outputs": [],
   "source": [
    "# Rest of U.S. use the data from description\n",
    "from numpy import random\n",
    "ls_2 = random.normal(0.03,0.3,size=13)\n",
    "#By doing the normal distribution creat the proper Noises"
   ]
  },
  {
   "cell_type": "code",
   "execution_count": 126,
   "id": "0b69bb6b",
   "metadata": {},
   "outputs": [
    {
     "name": "stdout",
     "output_type": "stream",
     "text": [
      "{1: -0.30030588690749827, 2: 0.389858887389429, 3: -0.22418379794481, 4: 0.0438914671435385, 5: 0.23982398459212784, 6: 0.15381119193444434, 7: -0.1448760716513126, 8: 0.4101684011584884, 9: -0.30893321515939043, 10: 0.08054985030903619, 11: 0.175856473366849, 12: 0.32544910507489133, 13: 0.24168498808614633}\n"
     ]
    }
   ],
   "source": [
    "#randomly pick 13 Noises to fit per capita birth rate in the rest of U.S.\n",
    "my_dict2={}\n",
    "for i in range(1,14):\n",
    "    my_dict2[i] = ls_2[i-1]\n",
    "print(my_dict2)"
   ]
  },
  {
   "cell_type": "code",
   "execution_count": 127,
   "id": "3f5240ba",
   "metadata": {},
   "outputs": [],
   "source": [
    "#apply the new parameter $b_2$ to the base model\n",
    "I = 1\n",
    "D = 0.0487697\n",
    "M = -0.0073907\n",
    "def P(t):\n",
    "    if t == 1955:\n",
    "        return 152082\n",
    "    else:\n",
    "        x = (t-1955)/5\n",
    "        n_2= my_dict2[x]\n",
    "        b2 = math.exp(-x)+n_2\n",
    "        return P(t - 5) * (I + b2 - D + M)"
   ]
  },
  {
   "cell_type": "code",
   "execution_count": 27,
   "id": "feb4c601",
   "metadata": {},
   "outputs": [],
   "source": [
    "list_2020 = []\n",
    "for i in range(30):\n",
    "    ls = random.normal(0,0.0003,size=13)\n",
    "    #By doing the normal distribution creat the proper Noises\n",
    "    #randomly pick 13 Noises to fit per capita birth rate in California\n",
    "    my_dict={}\n",
    "    for i in range(1,14):\n",
    "        my_dict[i] = ls[i-1]\n",
    "   # print(my_dict)\n",
    "   # print()\n",
    "    list_2020.append(my_dict)\n",
    "    \n",
    "\n",
    "# California use the data from description\n",
    "#apply the new parameter b_2 to the base model\n",
    "\n",
    "I = 1\n",
    "D = 0.0487697\n",
    "M = -0.0073907\n",
    "def P(t, index):\n",
    "    if t == 1955:\n",
    "        return 152082\n",
    "    else:\n",
    "        x = (t-1955)/5\n",
    "        n_2= list_2020[index][x]\n",
    "        b2 = math.exp(-x)+n_2\n",
    "        return P(t - 5, index) * (I + b2 - D + M)\n",
    "    \n",
    "L = []\n",
    "for index in range(30):\n",
    "    L.append(P(2020, index))\n",
    "    \n",
    "# print('L',L)\n"
   ]
  },
  {
   "cell_type": "code",
   "execution_count": 28,
   "id": "245c85bb",
   "metadata": {},
   "outputs": [
    {
     "data": {
      "image/png": "[encoded data removed]",
      "text/plain": [
       "<Figure size 432x288 with 1 Axes>"
      ]
     },
     "metadata": {
      "needs_background": "light"
     },
     "output_type": "display_data"
    }
   ],
   "source": [
    "import matplotlib.pyplot as plt\n",
    "\n",
    "\n",
    "x= [i for i in range(30)]\n",
    "plt.plot(x, L)\n",
    "plt.show()"
   ]
  },
  {
   "cell_type": "markdown",
   "id": "432e776c",
   "metadata": {},
   "source": [
    "From the above graph we can see the randomly chosed 30 list of Noise to form the population in the rest of U.S. We can see thorough the line graph it has some value closed to the reality data 291.911 million."
   ]
  },
  {
   "cell_type": "markdown",
   "id": "5af2e17c",
   "metadata": {},
   "source": [
    "We find out that through the variation of birth rate, with the simulation to the model the result population data is closed to the reality data. \n",
    "\n",
    "Hence, we can prove that the stochasticity of the birth rate is crucial to the model simulation. \n",
    "In our final project, we will talk about the parameter in detail. Only changing one parameter and fixing other parameters may help us to figure out how it affects the population growth."
   ]
  },
  {
   "cell_type": "markdown",
   "id": "ee6e5732",
   "metadata": {},
   "source": [
    "# Discussion and conclusions"
   ]
  },
  {
   "cell_type": "markdown",
   "id": "34886841",
   "metadata": {},
   "source": [
    "From the simulation of our model, we find that there would be sustainable growth in the population, and if we look more deeply into the distribution of the population, the proportion of the elderly population would gradually increase, which is the ageing problem in the society. This would lead to the scarcity of labour force, and high pressure on government expenditure(demand for benefits and medical resources would be high). Thus, the intervention of the government is crucial, the government may introduce policies on attracting immigrants and encourage childbirth in order to slow down the ageing of the population, and our model provides an estimate of the distribution of the population as a reference for the government.\n",
    "\n",
    "When our model predicts a large proportion of the elderly, and a small proportion of the first population. Then in real life we would face severe labor scarcity, leading to severe economic decline. The whole point of our model is to anticipate and prevent this from happening.\n",
    "\n",
    "From our model, our research questions have been explored and explained. Our base model would generate a projection of population in future, and looking through the extended model, we can see a clear change in the different groups of population, and that can reflect the variation in labour force, which is a crucial component of the economy. Then, the government can intervene in it and balance the population to stabilise the economy from a macro perspective.\n",
    "\n",
    "\n",
    "Due to the constraint of model complexity, all of our models proposed for this project tend to predict the population in a relatively 'perfect' world, which means our projections do not consider any possible impact of policies and regulations, as well as natural disaster such as COVID-19, all of which could result in serious variation in the death rate. This will always lead to the potential discrepancy between our prediction and real data since our assumptions about the values of parameters are based on historical trends which did not reflect extreme cases. Moreover, the United States has a long history of international migration, and immigrants make up significant parts of the workforce in America, which is not considered in our extended model for labour force prediction. Therefore, if we were to continue our research, we might add immigrants from outside of America and see the difference from our original prediction. To be more specific, if we see a significant increase in the workforce with the updated model, then we may reach the conclusion that America benefits from the labour and intelligence that immigrants bring. If there is not a large increase in the labour force with a new projection, then we need to further explore other factors that decrease the proportion of the workforce in the population.\n"
   ]
  },
  {
   "cell_type": "markdown",
   "id": "4cb8fb8b",
   "metadata": {},
   "source": [
    "# Reference"
   ]
  },
  {
   "cell_type": "markdown",
   "id": "9a46e998",
   "metadata": {},
   "source": [
    "California, S. of. (n.d.). Facts about California's elderly. Facts About California's Elderly - Data & Reports | California Department of Aging - State of California. Retrieved March 14, 2022, from https://www.aging.ca.gov/Data_and_Reports/Facts_About_California%27s_Elderly/ \n",
    "\n",
    "Demographics of California. (2022, April 15). Retrieved April 21, 2022, from https://en.wikipedia.org/wiki/Demographics_of_California\n",
    "\n",
    "Exploring recent trends in California births. (2021, August 30). Retrieved April 21, 2022, from https://lao.ca.gov/LAOEconTax/Article/Detail/691\n",
    "\n",
    "How does population affect demand. Lisbdnet.com. (2021, November 29). Retrieved March 14, 2022, from https://lisbdnet.com/how-does-population-affect-demand/#How_Does_Population_Affect_Demand \n",
    "\n",
    "Mahtta, R., Fragkias, M., Güneralp, B., Mahendra, A., Reba, M., Wentz, E. A., & Seto, K. C. (2022, February 11). Urban land expansion: The role of population and economic growth for 300+ cities. Nature News. Retrieved March 14, 2022, from https://www.nature.com/articles/s42949-022-00048-y#citeas \n",
    "\n",
    "Total number of births. (2022, April 20). Retrieved April 21, 2022, from https://www.kff.org/other/state-indicator/number-of-births/?currentTimeframe=1&sortModel=%7B%22colId%22%3A%22Location%22%2C%22sort%22%3A%22asc%22%7D"
   ]
  }
 ],
 "metadata": {
  "kernelspec": {
   "display_name": "Python 3 (ipykernel)",
   "language": "python",
   "name": "python3"
  },
  "language_info": {
   "codemirror_mode": {
    "name": "ipython",
    "version": 3
   },
   "file_extension": ".py",
   "mimetype": "text/x-python",
   "name": "python",
   "nbconvert_exporter": "python",
   "pygments_lexer": "ipython3",
   "version": "3.9.7"
  }
 },
 "nbformat": 4,
 "nbformat_minor": 5
}
